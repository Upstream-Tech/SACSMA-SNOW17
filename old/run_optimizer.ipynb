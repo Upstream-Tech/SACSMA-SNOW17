{
 "cells": [
  {
   "cell_type": "code",
   "execution_count": 1,
   "metadata": {
    "pycharm": {
     "is_executing": false
    }
   },
   "outputs": [],
   "source": [
    "# standard imports\n",
    "from pathlib import Path\n",
    "from ruamel.yaml import YAML\n",
    "from os import path\n",
    "import pickle as pkl\n",
    "import pandas as pd\n",
    "from itertools import chain\n",
    "import numpy as np\n",
    "import spotpy"
   ]
  },
  {
   "cell_type": "code",
   "execution_count": 2,
   "metadata": {
    "pycharm": {
     "is_executing": false,
     "name": "#%%\n"
    }
   },
   "outputs": [],
   "source": [
    "# CAMELS imports\n",
    "import model.camels_utilities as camels\n",
    "from optimizer.optimizer import spotpy_setup"
   ]
  },
  {
   "cell_type": "code",
   "execution_count": 3,
   "metadata": {},
   "outputs": [
    {
     "name": "stdout",
     "output_type": "stream",
     "text": [
      "There are 192 experiments.\n"
     ]
    }
   ],
   "source": [
    "# load config files\n",
    "run_dir = Path('/home/gsnearing/projects/lstm_based_hydrology/extreme_year_runs/')\n",
    "config_files = list(run_dir.glob('**/config.yml'))\n",
    "print(f'There are {len(config_files)} experiments.')"
   ]
  },
  {
   "cell_type": "code",
   "execution_count": 4,
   "metadata": {},
   "outputs": [
    {
     "name": "stdout",
     "output_type": "stream",
     "text": [
      "There are 192 experiments.\n"
     ]
    }
   ],
   "source": [
    "# load all config files for these experiments\\n\",\n",
    "configs = []\n",
    "for f, file in enumerate(config_files):\n",
    "    with file.open('r') as fp:\n",
    "        yaml = YAML(typ=\"safe\")\n",
    "        yaml.allow_duplicate_keys = True\n",
    "        cfg = yaml.load(fp)  \n",
    "#         sim_file = Path(cfg['run_dir']) / 'test' / 'model_epoch040' / 'test_results.p'\n",
    "#         if path.isfile(sim_file):\n",
    "        configs.append(cfg)\n",
    "print(f'There are {len(configs)} experiments.') "
   ]
  },
  {
   "cell_type": "code",
   "execution_count": 5,
   "metadata": {},
   "outputs": [],
   "source": [
    "# extract training dates\n",
    "cfg = configs[0]\n",
    "with open(cfg['train_dates_file'], 'rb') as f:\n",
    "    train_dates = pkl.load(f)\n",
    "    \n",
    "basins = list(train_dates['start_dates'].keys())\n",
    "obj_fun_dates = {}\n",
    "for basin in basins:\n",
    "    sd = train_dates['start_dates'][basin]\n",
    "    ed = train_dates['end_dates'][basin]\n",
    "    obj_fun_dates[basin] = pd.DataFrame(list(chain.from_iterable(pd.date_range(sdi, edi) for sdi,edi in zip(sd, ed))), columns = ('train_dates',))\n",
    "    "
   ]
  },
  {
   "cell_type": "code",
   "execution_count": 6,
   "metadata": {
    "pycharm": {
     "is_executing": false,
     "name": "#%%\n"
    }
   },
   "outputs": [],
   "source": [
    "# Loop through basins\n",
    "basin = '01054200'\n",
    "\n",
    "# Load data\n",
    "mask_dates = obj_fun_dates[basin]['train_dates']\n",
    "attributes = camels.load_basin_attributes(basin)\n",
    "forcings, area = camels.load_forcings(basin)\n",
    "observations = camels.load_usgs(basin, area)"
   ]
  },
  {
   "cell_type": "code",
   "execution_count": 7,
   "metadata": {
    "pycharm": {
     "is_executing": false,
     "name": "#%%\n"
    }
   },
   "outputs": [],
   "source": [
    "# Set up optimizer\n",
    "optimizer = spotpy_setup(forcings=forcings,\n",
    "                         observations=observations['QObs'],\n",
    "                         latitude=attributes['gauge_lat'],\n",
    "                         elevation=attributes['elev_mean'],\n",
    "                         mask_dates=mask_dates)"
   ]
  },
  {
   "cell_type": "code",
   "execution_count": 8,
   "metadata": {
    "pycharm": {
     "is_executing": false,
     "name": "#%%\n"
    }
   },
   "outputs": [
    {
     "name": "stdout",
     "output_type": "stream",
     "text": [
      "Initializing the  Shuffled Complex Evolution (SCE-UA) algorithm  with  13  repetitions\n",
      "The objective function will be minimized\n",
      "Starting burn-in sampling...\n",
      "Initialize database...\n",
      "['csv', 'hdf5', 'ram', 'sql', 'custom', 'noData']\n",
      "4 of 13, minimal objective function=4.36836, time remaining: 00:00:03\n",
      "10 of 13, minimal objective function=4.36836, time remaining: 00:00:01\n",
      "Stopping samplig. Maximum number of repetitions reached already during burn-in\n",
      "*** OPTIMIZATION SEARCH TERMINATED BECAUSE THE LIMIT\n",
      "ON THE MAXIMUM NUMBER OF TRIALS \n",
      "13\n",
      "HAS BEEN EXCEEDED.  SEARCH WAS STOPPED AT TRIAL NUMBER:\n",
      "13\n",
      "OF THE INITIAL LOOP!\n",
      "Burn-in sampling completed...\n",
      "Starting Complex Evolution...\n",
      "SEARCH WAS STOPPED AT TRIAL NUMBER: 13\n",
      "NUMBER OF DISCARDED TRIALS: 0\n",
      "NORMALIZED GEOMETRIC RANGE = 0.986165\n",
      "THE BEST POINT HAS IMPROVED IN LAST 100 LOOPS BY 100000.000000 PERCENT\n",
      "\n",
      "*** Final SPOTPY summary ***\n",
      "Total Duration: 5.23 seconds\n",
      "Total Repetitions: 13\n",
      "Minimal objective value: 4.36836\n",
      "Corresponding parameter setting:\n",
      "scf: 1.16022\n",
      "mfmax: 2.70316\n",
      "mfmin: 0.454758\n",
      "uadj: 0.0678738\n",
      "si: 366.666\n",
      "pxtemp: -0.992597\n",
      "nmf: 0.187326\n",
      "tipm: 0.179351\n",
      "plwhc: 0.0712231\n",
      "daygm: 0.0660237\n",
      "adc2: 0.180375\n",
      "adc3: 0.234021\n",
      "adc4: 0.57095\n",
      "adc5: 0.611698\n",
      "adc6: 0.767816\n",
      "adc7: 0.619867\n",
      "adc8: 0.883419\n",
      "adc9: 0.706952\n",
      "adc10: 0.948204\n",
      "uztwm: 99.9799\n",
      "uzfwm: 775.229\n",
      "lztwm: 633.799\n",
      "lzfpm: 681.272\n",
      "lzfsm: 804.033\n",
      "uzk: 0.538614\n",
      "lzpk: 0.0092441\n",
      "lzsk: 0.116719\n",
      "zperc: 113.782\n",
      "rexp: 4.92676\n",
      "pfree: 0.735391\n",
      "unit_shape: 1.48495\n",
      "unit_scale: 12.2684\n",
      "******************************\n",
      "\n"
     ]
    }
   ],
   "source": [
    "# Configure optimizer hyperparameters\n",
    "sampler=spotpy.algorithms.sceua(optimizer, \n",
    "                                dbname='SCE', \n",
    "                                dbformat='ram',\n",
    "                                save_sim=True) # False\n",
    "max_model_runs = 13 # 1e5\n",
    "sampler.sample(max_model_runs, ngs=2) #ngs=20)"
   ]
  },
  {
   "cell_type": "code",
   "execution_count": 15,
   "metadata": {},
   "outputs": [
    {
     "name": "stdout",
     "output_type": "stream",
     "text": [
      "[4.36835586 5.34913189 4.62027221 6.39251344 5.12697876 5.34913189\n",
      " 5.34913189 5.34913189 5.34913189 5.34913189 5.34913189 5.34913189\n",
      " 5.58957517]\n"
     ]
    },
    {
     "data": {
      "text/plain": [
       "0"
      ]
     },
     "execution_count": 15,
     "metadata": {},
     "output_type": "execute_result"
    }
   ],
   "source": [
    "# Find best simulation\n",
    "likes=results['like1']\n",
    "print(likes)\n",
    "best=np.nanmin(likes)\n",
    "index=np.where(likes==best)[0]\n",
    "index[0]"
   ]
  },
  {
   "cell_type": "code",
   "execution_count": 22,
   "metadata": {},
   "outputs": [
    {
     "data": {
      "text/plain": [
       "array([(1.16022359, 2.7031638 , 0.45475788, 0.06787376,  366.66624571, -0.99259693, 0.18732558, 0.17935106, 0.07122309, 0.06602367, 0.18037517, 0.23402135, 0.57095016, 0.61169763, 0.76781638, 0.61986712, 0.88341877, 0.70695202, 0.94820381,  99.97988983, 775.22891475, 633.79934864, 681.27171281, 804.03315759, 0.53861369, 0.0092441 , 0.11671909, 113.78156994, 4.92675969, 0.73539117, 1.48495111,  12.26837703),\n",
       "       (4.90021502, 1.0421147 , 0.18824527, 0.39435067,  582.11933951,  1.18881644, 0.16264794, 0.18828192, 0.23197404, 0.25714655, 0.13387491, 0.4288371 , 0.51736227, 0.63289542, 0.74999124, 0.74133429, 0.85624904, 0.71906137, 0.94173451,  70.87543186, 389.753748  ,  64.56914166, 223.52508308, 437.96875444, 0.17590331, 0.00054281, 0.11982938, 166.06872175, 5.79146281, 0.70562961, 2.94853476, 144.82229658),\n",
       "       (1.1754891 , 2.85612718, 0.07667825, 0.15045075, 2443.51321011,  0.0051255 , 0.15281245, 0.12271157, 0.08320361, 0.00211879, 0.14905018, 0.40561795, 0.52549614, 0.65443225, 0.64434982, 0.65545378, 0.66433784, 0.84142608, 0.82743353, 246.99200271,  41.1104307 , 540.15856225, 913.41182405, 733.0624272 , 0.22655712, 0.01291425, 0.12702828,   7.97826008, 5.43422645, 0.20530714, 1.30314366,  20.07288231),\n",
       "       (1.86687256, 1.76600382, 0.16975566, 0.30918307, 1824.26239051,  2.03706196, 0.19793621, 0.15587593, 0.03741478, 0.09914281, 0.25554273, 0.5095054 , 0.57172805, 0.73893266, 0.71021347, 0.65946335, 0.68785436, 0.69934729, 0.94435837, 127.29972786, 594.84643574,  23.86163736, 181.75479733,   5.76550591, 0.48989006, 0.01986767, 0.12476089, 222.56972123, 3.44512327, 0.46086208, 2.67049672,   5.21074523),\n",
       "       (2.19765289, 2.06861987, 0.39454939, 0.27673498, 2693.44209324,  0.38128591, 0.15664887, 0.11610725, 0.20317609, 0.08523911, 0.25551576, 0.21010373, 0.49941572, 0.69440189, 0.75037755, 0.79197101, 0.8893204 , 0.76076661, 0.90141809, 211.74501182,  61.33290769, 418.95673598, 891.48648408,  53.84852341, 0.64607353, 0.01274932, 0.00639891, 191.03841513, 2.09143839, 0.36791208, 1.4955931 , 104.66127668),\n",
       "       (2.49586656, 2.51137346, 0.60421773, 0.20890731, 3210.02273563,  1.72858491, 0.19179148, 0.13323685, 0.04062977, 0.12379437, 0.20444473, 0.41164626, 0.54200373, 0.58751222, 0.79780319, 0.62646723, 0.6737804 , 0.90416401, 0.82477748, 376.6850263 ,  94.22857322,  69.15839321, 105.47231151, 594.60859372, 0.37675627, 0.00750162, 0.09092188, 157.1045953 , 1.21138088, 0.77275933, 3.19268269,  41.19768276),\n",
       "       (0.10854817, 0.9259052 , 0.47139581, 0.37549672, 3412.16496357,  0.32242288, 0.18414675, 0.12646768, 0.08075719, 0.22324964, 0.11883123, 0.49497953, 0.54968979, 0.6937681 , 0.63892528, 0.79112218, 0.74217485, 0.75897775, 0.88569743, 266.84193582,  64.68368825,  57.21086564, 116.75038229, 657.4571827 , 0.54611537, 0.01051922, 0.03621857, 118.48952265, 5.47803633, 0.81956168, 3.79587137,  68.98570017),\n",
       "       (4.93943494, 2.33308793, 0.6355598 , 0.35123993,  589.60206787,  2.96703656, 0.1879403 , 0.18066267, 0.24456755, 0.22338939, 0.27423605, 0.32066697, 0.48844902, 0.76701729, 0.77283661, 0.74050763, 0.85417301, 0.8527773 , 0.84326793, 289.9444035 , 293.07889316, 769.34297778, 818.46189496, 379.04809492, 0.54228887, 0.00945411, 0.14153302, 232.33886413, 2.81131455, 0.59205154, 4.29786031,  21.08432197),\n",
       "       (4.64800416, 0.8586922 , 0.14206363, 0.35261714, 1551.59953681, -0.06612655, 0.18706569, 0.0760298 , 0.09754022, 0.1462304 , 0.23801771, 0.46470018, 0.58671997, 0.55263469, 0.75556225, 0.74134592, 0.67591864, 0.82778056, 0.9179497 , 641.81527799, 701.71205535, 617.37612615, 131.14864491, 162.48765972, 0.55884577, 0.0001619 , 0.05477221,  51.19041922, 2.8504364 , 0.79446689, 4.9862257 ,  42.8361333 ),\n",
       "       (0.77938149, 1.91474666, 0.6153661 , 0.22561586, 2548.41284552,  0.16377866, 0.19493053, 0.06518727, 0.16410475, 0.02492531, 0.13676208, 0.26406737, 0.54769319, 0.65822103, 0.60151733, 0.81128522, 0.84974573, 0.83871615, 0.87176064, 591.27053244,  60.59887691, 448.37597196, 628.71195122, 113.7038013 , 0.23416137, 0.0052942 , 0.22855588,  85.90907852, 5.93256474, 0.99743621, 1.93970959, 141.42298752),\n",
       "       (4.82549352, 2.09765974, 0.43256591, 0.18721103, 3402.17684052,  1.65680143, 0.1687849 , 0.05070044, 0.23914489, 0.00207772, 0.26112933, 0.33117049, 0.58079824, 0.52798906, 0.69248527, 0.70725379, 0.84774281, 0.83607528, 0.84488534, 115.84309737, 714.45293266, 430.73015675, 173.52201253, 704.42526301, 0.37760072, 0.00086435, 0.17673669,  77.81681424, 4.03231375, 0.68774444, 4.16558769, 103.23335402),\n",
       "       (1.5939141 , 2.31274218, 0.48475997, 0.06221328, 2210.40180693,  2.62044811, 0.15368691, 0.09377893, 0.13864364, 0.03333607, 0.15181691, 0.23279863, 0.50872098, 0.62113073, 0.71723716, 0.70221758, 0.79864709, 0.74255402, 0.88561393,  79.90015634, 265.67341137, 393.10237837, 729.02041129, 790.42386313, 0.68771687, 0.00570317, 0.20276799,   8.82302465, 0.88099674, 0.6238011 , 3.76240687,  57.59537162),\n",
       "       (2.23210677, 0.80740392, 0.6362581 , 0.25698927, 3071.55543453,  0.9321921 , 0.16055837, 0.08348984, 0.10652853, 0.04072397, 0.28004883, 0.27831136, 0.54657645, 0.73777516, 0.56653938, 0.85092522, 0.77194732, 0.91602977, 0.94565715, 301.63420216, 346.87358294, 126.86410494, 660.69388209, 130.26824869, 0.33526208, 0.02212318, 0.20885614,  67.97172352, 0.74474522, 0.54426386, 2.0225275 ,  44.89764175)],\n",
       "      dtype={'names':['parscf','parmfmax','parmfmin','paruadj','parsi','parpxtemp','parnmf','partipm','parplwhc','pardaygm','paradc2','paradc3','paradc4','paradc5','paradc6','paradc7','paradc8','paradc9','paradc10','paruztwm','paruzfwm','parlztwm','parlzfpm','parlzfsm','paruzk','parlzpk','parlzsk','parzperc','parrexp','parpfree','parunit_shape','parunit_scale'], 'formats':['<f8','<f8','<f8','<f8','<f8','<f8','<f8','<f8','<f8','<f8','<f8','<f8','<f8','<f8','<f8','<f8','<f8','<f8','<f8','<f8','<f8','<f8','<f8','<f8','<f8','<f8','<f8','<f8','<f8','<f8','<f8','<f8'], 'offsets':[8,16,24,32,40,48,56,64,72,80,88,96,104,112,120,128,136,144,152,160,168,176,184,192,200,208,216,224,232,240,248,256], 'itemsize':102544})"
      ]
     },
     "execution_count": 22,
     "metadata": {},
     "output_type": "execute_result"
    }
   ],
   "source": [
    "fields=[word for word in results.dtype.names if word.startswith('par')]\n",
    "best_parms = results[fields]\n",
    "best_parms"
   ]
  },
  {
   "cell_type": "code",
   "execution_count": 23,
   "metadata": {
    "pycharm": {
     "is_executing": false,
     "name": "#%%\n"
    }
   },
   "outputs": [
    {
     "name": "stdout",
     "output_type": "stream",
     "text": [
      "Best parameter set:\n",
      "scf=1.160223591074816, mfmax=2.703163800880625, mfmin=0.45475788043588267, uadj=0.06787376295383167, si=366.66624570642574, pxtemp=-0.9925969292480485, nmf=0.18732557773974004, tipm=0.17935105619552677, plwhc=0.07122308970936511, daygm=0.06602366895908524, adc2=0.1803751734056389, adc3=0.23402134917417977, adc4=0.5709501581770325, adc5=0.6116976333048607, adc6=0.7678163800080602, adc7=0.6198671244724203, adc8=0.8834187674189942, adc9=0.7069520164393733, adc10=0.948203809019917, uztwm=99.97988983301963, uzfwm=775.228914750272, lztwm=633.7993486411198, lzfpm=681.2717128070358, lzfsm=804.0331575867449, uzk=0.5386136929528124, lzpk=0.009244100774687278, lzsk=0.1167190926539842, zperc=113.78156994360594, rexp=4.926759687358452, pfree=0.7353911733087057, unit_shape=1.4849511141297809, unit_scale=12.268377030191376\n"
     ]
    }
   ],
   "source": [
    "# Get parameters and simulation from optimized model\n",
    "results = sampler.getdata()\n",
    "best_parameters = spotpy.analyser.get_best_parameterset(results,maximize=False)\n",
    "best_parameters_df = pd.DataFrame(best_parameters)\n",
    "for key in best_parameters_df.keys():\n",
    "    new_key = key.split('par')[-1]\n",
    "    best_parameters_df = best_parameters_df.rename(columns={key: new_key})\n",
    "best_parameters_series = best_parameters_df.transpose()[0]"
   ]
  },
  {
   "cell_type": "code",
   "execution_count": 24,
   "metadata": {},
   "outputs": [
    {
     "data": {
      "text/plain": [
       "Date\n",
       "1980-01-01    2.339503\n",
       "1980-01-02    4.100363\n",
       "1980-01-03    5.534122\n",
       "1980-01-04    6.798855\n",
       "1980-01-05    7.905566\n",
       "                ...   \n",
       "2014-12-27    3.850482\n",
       "2014-12-28    3.905621\n",
       "2014-12-29    3.949840\n",
       "2014-12-30    3.977303\n",
       "2014-12-31    3.992227\n",
       "Length: 12784, dtype: float64"
      ]
     },
     "execution_count": 24,
     "metadata": {},
     "output_type": "execute_result"
    }
   ],
   "source": [
    "# Find best simulation\n",
    "fields=[word for word in results.dtype.names if word.startswith('sim')]\n",
    "sim_results = results[fields]\n",
    "sim_results_df = pd.DataFrame(sim_results)\n",
    "sim_results_series_values = sim_results_df.iloc[index[0]].values\n",
    "sim_results_series = pd.Series(data=sim_results_series_values, index=forcings.index)\n",
    "sim_results_series"
   ]
  },
  {
   "cell_type": "code",
   "execution_count": 25,
   "metadata": {},
   "outputs": [
    {
     "data": {
      "text/plain": [
       "Date\n",
       "1980-01-01    2.339503\n",
       "1980-01-02    4.100363\n",
       "1980-01-03    5.534122\n",
       "1980-01-04    6.798855\n",
       "1980-01-05    7.905566\n",
       "                ...   \n",
       "2014-12-27    3.850482\n",
       "2014-12-28    3.905621\n",
       "2014-12-29    3.949840\n",
       "2014-12-30    3.977303\n",
       "2014-12-31    3.992227\n",
       "Length: 12784, dtype: float32"
      ]
     },
     "execution_count": 25,
     "metadata": {},
     "output_type": "execute_result"
    }
   ],
   "source": [
    "# parameters = camels.load_sacsma_parameters(basin)\n",
    "parms = best_parameters_series\n",
    "parm_vector = parms.loc[optimizer.optimized_parameter_names].values\n",
    "sim = optimizer.simulation(parm_vector)\n",
    "sim"
   ]
  },
  {
   "cell_type": "code",
   "execution_count": 26,
   "metadata": {},
   "outputs": [
    {
     "data": {
      "text/plain": [
       "4.368355861975946"
      ]
     },
     "execution_count": 26,
     "metadata": {},
     "output_type": "execute_result"
    }
   ],
   "source": [
    "rmse = optimizer.objectivefunction(sim_results_series, optimizer.evaluation())\n",
    "rmse"
   ]
  },
  {
   "cell_type": "code",
   "execution_count": null,
   "metadata": {},
   "outputs": [],
   "source": []
  },
  {
   "cell_type": "code",
   "execution_count": null,
   "metadata": {},
   "outputs": [],
   "source": []
  },
  {
   "cell_type": "code",
   "execution_count": 27,
   "metadata": {},
   "outputs": [
    {
     "data": {
      "text/plain": [
       "4.368355861975946"
      ]
     },
     "execution_count": 27,
     "metadata": {},
     "output_type": "execute_result"
    }
   ],
   "source": [
    "rmse = optimizer.objectivefunction(sim, optimizer.evaluation())\n",
    "rmse"
   ]
  },
  {
   "cell_type": "code",
   "execution_count": null,
   "metadata": {},
   "outputs": [],
   "source": []
  }
 ],
 "metadata": {
  "kernelspec": {
   "display_name": "Python 3",
   "language": "python",
   "name": "python3"
  },
  "language_info": {
   "codemirror_mode": {
    "name": "ipython",
    "version": 3
   },
   "file_extension": ".py",
   "mimetype": "text/x-python",
   "name": "python",
   "nbconvert_exporter": "python",
   "pygments_lexer": "ipython3",
   "version": "3.8.2"
  },
  "pycharm": {
   "stem_cell": {
    "cell_type": "raw",
    "metadata": {
     "collapsed": false
    },
    "source": []
   }
  }
 },
 "nbformat": 4,
 "nbformat_minor": 1
}
