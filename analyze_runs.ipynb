{
 "cells": [
  {
   "cell_type": "code",
   "execution_count": null,
   "metadata": {},
   "outputs": [],
   "source": [
    "from pathlib import Path\n",
    "from ruamel.yaml import YAML\n",
    "from os import path\n",
    "import os\n",
    "import pickle as pkl\n",
    "import sys"
   ]
  },
  {
   "cell_type": "code",
   "execution_count": null,
   "metadata": {},
   "outputs": [],
   "source": [
    "# experiment configs\n",
    "config_dir = Path('/home/gsnearing/projects/lstm_based_hydrology/extreme_year_configs/')\n",
    "\n",
    "# where are the SAC-SMA parameters?\n",
    "out_dir = Path('./results/')\n",
    "\n",
    "# lstm codebase\n",
    "working_dir = Path('/home/gsnearing/projects/lstm_based_hydrology/') "
   ]
  },
  {
   "cell_type": "code",
   "execution_count": null,
   "metadata": {},
   "outputs": [],
   "source": [
    "# import custom routines\n",
    "sys.path.append(str(working_dir))\n",
    "from codebase.data.utils import load_basin_file\n",
    "# from codebase.data.utils import load_camels_attributes\n",
    "# from codebase.evaluation.metrics import get_available_metrics, calculate_all_metrics"
   ]
  },
  {
   "cell_type": "code",
   "execution_count": null,
   "metadata": {},
   "outputs": [],
   "source": [
    "# load config files\n",
    "config_files = list(config_dir.glob('*.yml'))\n",
    "print(f'There are {len(config_files)} experiments.')"
   ]
  },
  {
   "cell_type": "code",
   "execution_count": null,
   "metadata": {},
   "outputs": [],
   "source": [
    "# load all config files for these experiments\n",
    "configs = []\n",
    "for f, file in enumerate(config_files):\n",
    "    with file.open('r') as fp:\n",
    "        yaml = YAML(typ=\"safe\")\n",
    "        yaml.allow_duplicate_keys = True\n",
    "        cfg = yaml.load(fp)    \n",
    "        configs.append(cfg)\n",
    "print(f'There are {len(configs)} experiments.')    "
   ]
  },
  {
   "cell_type": "code",
   "execution_count": null,
   "metadata": {},
   "outputs": [],
   "source": [
    "# basin lists\n",
    "all_basin_file = working_dir / 'data/531_basin_list.txt'\n",
    "basins = load_basin_file(all_basin_file)\n",
    "nBasins = len(basins)\n",
    "print(f'There are {len(basins)} basins.')"
   ]
  },
  {
   "cell_type": "code",
   "execution_count": null,
   "metadata": {},
   "outputs": [],
   "source": [
    "# load sacsma runs for all configs\n",
    "sacsma = {}\n",
    "for c, cfg in enumerate(configs):\n",
    "    \n",
    "    sac_dir = out_dir / cfg['experiment_name']\n",
    "    \n",
    "    if os.path.isdir(sac_dir):\n",
    "        sacsma[cfg['experiment_name']] = {}\n",
    "        \n",
    "        for basin in basins:\n",
    "            with open(f\"{sac_dir}/{basin}.pkl\", 'rb') as f:\n",
    "                best_parameters_series, sim, likelihoods, best_likelihood = pkl.load(f)\n",
    "                sacsma[cfg['experiment_name']][basin] = sim\n"
   ]
  },
  {
   "cell_type": "code",
   "execution_count": null,
   "metadata": {},
   "outputs": [],
   "source": [
    "len(sacsma['p_mean_dyn_low_0_200'])"
   ]
  },
  {
   "cell_type": "code",
   "execution_count": null,
   "metadata": {},
   "outputs": [],
   "source": [
    "import matplotlib.pyplot as plt"
   ]
  },
  {
   "cell_type": "code",
   "execution_count": null,
   "metadata": {},
   "outputs": [],
   "source": []
  }
 ],
 "metadata": {
  "kernelspec": {
   "display_name": "Python 3",
   "language": "python",
   "name": "python3"
  },
  "language_info": {
   "codemirror_mode": {
    "name": "ipython",
    "version": 3
   },
   "file_extension": ".py",
   "mimetype": "text/x-python",
   "name": "python",
   "nbconvert_exporter": "python",
   "pygments_lexer": "ipython3",
   "version": "3.7.6"
  }
 },
 "nbformat": 4,
 "nbformat_minor": 4
}
