{
 "cells": [
  {
   "cell_type": "code",
   "execution_count": 11,
   "metadata": {
    "pycharm": {
     "is_executing": false
    }
   },
   "outputs": [
    {
     "ename": "ModuleNotFoundError",
     "evalue": "No module named 'joblib'",
     "output_type": "error",
     "traceback": [
      "\u001b[0;31m---------------------------------------------------------------------------\u001b[0m",
      "\u001b[0;31mModuleNotFoundError\u001b[0m                       Traceback (most recent call last)",
      "\u001b[0;32m<ipython-input-11-c199e289133d>\u001b[0m in \u001b[0;36m<module>\u001b[0;34m\u001b[0m\n\u001b[1;32m      8\u001b[0m \u001b[0;32mimport\u001b[0m \u001b[0mnumpy\u001b[0m \u001b[0;32mas\u001b[0m \u001b[0mnp\u001b[0m\u001b[0;34m\u001b[0m\u001b[0;34m\u001b[0m\u001b[0m\n\u001b[1;32m      9\u001b[0m \u001b[0;32mimport\u001b[0m \u001b[0mspotpy\u001b[0m\u001b[0;34m\u001b[0m\u001b[0;34m\u001b[0m\u001b[0m\n\u001b[0;32m---> 10\u001b[0;31m \u001b[0;32mfrom\u001b[0m \u001b[0mjoblib\u001b[0m \u001b[0;32mimport\u001b[0m \u001b[0mParallel\u001b[0m\u001b[0;34m,\u001b[0m \u001b[0mdelayed\u001b[0m\u001b[0;34m\u001b[0m\u001b[0;34m\u001b[0m\u001b[0m\n\u001b[0m",
      "\u001b[0;31mModuleNotFoundError\u001b[0m: No module named 'joblib'"
     ]
    }
   ],
   "source": [
    "# standard imports\n",
    "from pathlib import Path\n",
    "from ruamel.yaml import YAML\n",
    "from os import path\n",
    "import pickle as pkl\n",
    "import pandas as pd\n",
    "from itertools import chain\n",
    "import numpy as np\n",
    "import spotpy\n",
    "# import multiprocessing\n",
    "# from joblib import Parallel, delayed"
   ]
  },
  {
   "cell_type": "code",
   "execution_count": 2,
   "metadata": {
    "pycharm": {
     "is_executing": false,
     "name": "#%%\n"
    }
   },
   "outputs": [],
   "source": [
    "# CAMELS imports\n",
    "import model.camels_utilities as camels\n",
    "from optimizer.optimizer import spotpy_setup"
   ]
  },
  {
   "cell_type": "code",
   "execution_count": 3,
   "metadata": {},
   "outputs": [],
   "source": [
    "# run directory\n",
    "run_dir = Path('/home/gsnearing/projects/lstm_based_hydrology/extreme_year_runs/')\n",
    "out_dir = Path('./results/')"
   ]
  },
  {
   "cell_type": "code",
   "execution_count": 4,
   "metadata": {},
   "outputs": [
    {
     "name": "stdout",
     "output_type": "stream",
     "text": [
      "There are 192 experiments.\n"
     ]
    }
   ],
   "source": [
    "# load config files\n",
    "config_files = list(run_dir.glob('**/config.yml'))\n",
    "print(f'There are {len(config_files)} experiments.')"
   ]
  },
  {
   "cell_type": "code",
   "execution_count": 7,
   "metadata": {},
   "outputs": [],
   "source": [
    "# optimizer hypers\n",
    "max_model_runs = 1e3 # 1e5\n",
    "dds_trials = 1e2"
   ]
  },
  {
   "cell_type": "code",
   "execution_count": 10,
   "metadata": {},
   "outputs": [
    {
     "name": "stdout",
     "output_type": "stream",
     "text": [
      "Initializing the  Dynamically Dimensioned Search (DDS) algorithm  with  1000  repetitions\n",
      "The objective function will be minimized\n",
      "Starting the DDS algotrithm with 1000 repetitions...\n",
      "Finding best starting point for trial 1 using 5 random samples.\n",
      "Initialize database...\n",
      "['csv', 'hdf5', 'ram', 'sql', 'custom', 'noData']\n",
      "6 of 1000, maximal objective function=3.54478, time remaining: 00:05:14\n",
      "12 of 1000, maximal objective function=3.54478, time remaining: 00:05:32\n",
      "18 of 1000, maximal objective function=3.54478, time remaining: 00:05:39\n",
      "24 of 1000, maximal objective function=3.54478, time remaining: 00:05:40\n",
      "30 of 1000, maximal objective function=3.54478, time remaining: 00:05:40\n",
      "36 of 1000, maximal objective function=3.54478, time remaining: 00:05:39\n",
      "42 of 1000, maximal objective function=3.54478, time remaining: 00:05:38\n",
      "48 of 1000, maximal objective function=3.54478, time remaining: 00:05:37\n",
      "54 of 1000, maximal objective function=3.54478, time remaining: 00:05:35\n",
      "60 of 1000, maximal objective function=3.54478, time remaining: 00:05:34\n",
      "66 of 1000, maximal objective function=3.54478, time remaining: 00:05:32\n",
      "72 of 1000, maximal objective function=3.54478, time remaining: 00:05:30\n",
      "78 of 1000, maximal objective function=3.54478, time remaining: 00:05:28\n",
      "84 of 1000, maximal objective function=3.54478, time remaining: 00:05:26\n",
      "90 of 1000, maximal objective function=3.54478, time remaining: 00:05:24\n",
      "96 of 1000, maximal objective function=3.54478, time remaining: 00:05:22\n",
      "102 of 1000, maximal objective function=3.54478, time remaining: 00:05:20\n",
      "108 of 1000, maximal objective function=3.54478, time remaining: 00:05:18\n",
      "114 of 1000, maximal objective function=3.54478, time remaining: 00:05:16\n",
      "120 of 1000, maximal objective function=3.54478, time remaining: 00:05:14\n",
      "126 of 1000, maximal objective function=3.54478, time remaining: 00:05:12\n",
      "132 of 1000, maximal objective function=3.54478, time remaining: 00:05:10\n",
      "138 of 1000, maximal objective function=3.54478, time remaining: 00:05:08\n",
      "144 of 1000, maximal objective function=3.54478, time remaining: 00:05:06\n",
      "150 of 1000, maximal objective function=3.54478, time remaining: 00:05:04\n",
      "156 of 1000, maximal objective function=3.54478, time remaining: 00:05:02\n",
      "162 of 1000, maximal objective function=3.54478, time remaining: 00:04:59\n",
      "168 of 1000, maximal objective function=3.54478, time remaining: 00:04:57\n",
      "174 of 1000, maximal objective function=3.54478, time remaining: 00:04:55\n",
      "180 of 1000, maximal objective function=3.54478, time remaining: 00:04:53\n",
      "186 of 1000, maximal objective function=3.54478, time remaining: 00:04:51\n",
      "192 of 1000, maximal objective function=3.54478, time remaining: 00:04:49\n",
      "198 of 1000, maximal objective function=3.54478, time remaining: 00:04:47\n",
      "204 of 1000, maximal objective function=3.54478, time remaining: 00:04:45\n",
      "210 of 1000, maximal objective function=3.54478, time remaining: 00:04:43\n",
      "216 of 1000, maximal objective function=3.54478, time remaining: 00:04:40\n",
      "222 of 1000, maximal objective function=3.54478, time remaining: 00:04:38\n",
      "228 of 1000, maximal objective function=3.54478, time remaining: 00:04:36\n",
      "234 of 1000, maximal objective function=3.54478, time remaining: 00:04:34\n",
      "240 of 1000, maximal objective function=3.54478, time remaining: 00:04:32\n",
      "246 of 1000, maximal objective function=3.54478, time remaining: 00:04:30\n",
      "252 of 1000, maximal objective function=3.54478, time remaining: 00:04:28\n",
      "258 of 1000, maximal objective function=3.54478, time remaining: 00:04:26\n",
      "264 of 1000, maximal objective function=3.54478, time remaining: 00:04:23\n",
      "270 of 1000, maximal objective function=3.54478, time remaining: 00:04:21\n",
      "276 of 1000, maximal objective function=3.54478, time remaining: 00:04:19\n",
      "282 of 1000, maximal objective function=3.54478, time remaining: 00:04:17\n",
      "288 of 1000, maximal objective function=3.54478, time remaining: 00:04:15\n",
      "294 of 1000, maximal objective function=3.54478, time remaining: 00:04:13\n",
      "300 of 1000, maximal objective function=3.54478, time remaining: 00:04:11\n",
      "306 of 1000, maximal objective function=3.54478, time remaining: 00:04:09\n",
      "312 of 1000, maximal objective function=3.54478, time remaining: 00:04:07\n",
      "318 of 1000, maximal objective function=3.54478, time remaining: 00:04:05\n",
      "324 of 1000, maximal objective function=3.54478, time remaining: 00:04:03\n",
      "330 of 1000, maximal objective function=3.54478, time remaining: 00:04:01\n",
      "336 of 1000, maximal objective function=3.54478, time remaining: 00:03:59\n",
      "342 of 1000, maximal objective function=3.54478, time remaining: 00:03:57\n",
      "348 of 1000, maximal objective function=3.54478, time remaining: 00:03:54\n",
      "354 of 1000, maximal objective function=3.54478, time remaining: 00:03:52\n",
      "360 of 1000, maximal objective function=3.54478, time remaining: 00:03:50\n",
      "366 of 1000, maximal objective function=3.54478, time remaining: 00:03:48\n",
      "372 of 1000, maximal objective function=3.54478, time remaining: 00:03:46\n",
      "378 of 1000, maximal objective function=3.54478, time remaining: 00:03:44\n",
      "384 of 1000, maximal objective function=3.54478, time remaining: 00:03:42\n",
      "390 of 1000, maximal objective function=3.54478, time remaining: 00:03:39\n",
      "396 of 1000, maximal objective function=3.54478, time remaining: 00:03:37\n",
      "402 of 1000, maximal objective function=3.54478, time remaining: 00:03:35\n",
      "408 of 1000, maximal objective function=3.54478, time remaining: 00:03:33\n",
      "414 of 1000, maximal objective function=3.54478, time remaining: 00:03:31\n",
      "420 of 1000, maximal objective function=3.54478, time remaining: 00:03:29\n",
      "426 of 1000, maximal objective function=3.54478, time remaining: 00:03:26\n",
      "432 of 1000, maximal objective function=3.54478, time remaining: 00:03:24\n",
      "438 of 1000, maximal objective function=3.54478, time remaining: 00:03:22\n",
      "444 of 1000, maximal objective function=3.54478, time remaining: 00:03:20\n",
      "450 of 1000, maximal objective function=3.54478, time remaining: 00:03:18\n",
      "456 of 1000, maximal objective function=3.54478, time remaining: 00:03:16\n",
      "462 of 1000, maximal objective function=3.54478, time remaining: 00:03:14\n",
      "468 of 1000, maximal objective function=3.54478, time remaining: 00:03:11\n",
      "474 of 1000, maximal objective function=3.54478, time remaining: 00:03:09\n",
      "480 of 1000, maximal objective function=3.54478, time remaining: 00:03:07\n",
      "486 of 1000, maximal objective function=3.54478, time remaining: 00:03:05\n",
      "492 of 1000, maximal objective function=3.54478, time remaining: 00:03:03\n",
      "498 of 1000, maximal objective function=3.54478, time remaining: 00:03:01\n"
     ]
    },
    {
     "ename": "KeyboardInterrupt",
     "evalue": "",
     "output_type": "error",
     "traceback": [
      "\u001b[0;31m---------------------------------------------------------------------------\u001b[0m",
      "\u001b[0;31mKeyboardInterrupt\u001b[0m                         Traceback (most recent call last)",
      "\u001b[0;32m<ipython-input-10-252d917b10e5>\u001b[0m in \u001b[0;36m<module>\u001b[0;34m\u001b[0m\n\u001b[1;32m     53\u001b[0m         \u001b[0;31m# run it\u001b[0m\u001b[0;34m\u001b[0m\u001b[0;34m\u001b[0m\u001b[0;34m\u001b[0m\u001b[0m\n\u001b[1;32m     54\u001b[0m \u001b[0;31m#         sampler.sample(repetitions=int(max_model_runs), ngs=len(optimizer.optimized_parameter_names))\u001b[0m\u001b[0;34m\u001b[0m\u001b[0;34m\u001b[0m\u001b[0;34m\u001b[0m\u001b[0m\n\u001b[0;32m---> 55\u001b[0;31m         \u001b[0msampler\u001b[0m\u001b[0;34m.\u001b[0m\u001b[0msample\u001b[0m\u001b[0;34m(\u001b[0m\u001b[0mrepetitions\u001b[0m\u001b[0;34m=\u001b[0m\u001b[0mint\u001b[0m\u001b[0;34m(\u001b[0m\u001b[0mmax_model_runs\u001b[0m\u001b[0;34m)\u001b[0m\u001b[0;34m,\u001b[0m \u001b[0mtrials\u001b[0m\u001b[0;34m=\u001b[0m\u001b[0mint\u001b[0m\u001b[0;34m(\u001b[0m\u001b[0mdds_trials\u001b[0m\u001b[0;34m)\u001b[0m\u001b[0;34m)\u001b[0m\u001b[0;34m\u001b[0m\u001b[0;34m\u001b[0m\u001b[0m\n\u001b[0m\u001b[1;32m     56\u001b[0m \u001b[0;34m\u001b[0m\u001b[0m\n\u001b[1;32m     57\u001b[0m         \u001b[0;31m# get best parameters\u001b[0m\u001b[0;34m\u001b[0m\u001b[0;34m\u001b[0m\u001b[0;34m\u001b[0m\u001b[0m\n",
      "\u001b[0;32m~/anaconda3/envs/sacsma/lib/python3.8/site-packages/spotpy/algorithms/dds.py\u001b[0m in \u001b[0;36msample\u001b[0;34m(self, repetitions, trials, x_initial)\u001b[0m\n\u001b[1;32m    304\u001b[0m             \u001b[0mself\u001b[0m\u001b[0;34m.\u001b[0m\u001b[0mgenerator_repetitions\u001b[0m \u001b[0;34m=\u001b[0m \u001b[0mrepetions_left\u001b[0m\u001b[0;34m\u001b[0m\u001b[0;34m\u001b[0m\u001b[0m\n\u001b[1;32m    305\u001b[0m             \u001b[0mself\u001b[0m\u001b[0;34m.\u001b[0m\u001b[0mparams_max\u001b[0m \u001b[0;34m=\u001b[0m \u001b[0mparams_max\u001b[0m\u001b[0;34m\u001b[0m\u001b[0;34m\u001b[0m\u001b[0m\n\u001b[0;32m--> 306\u001b[0;31m             \u001b[0;32mfor\u001b[0m \u001b[0mrep\u001b[0m\u001b[0;34m,\u001b[0m \u001b[0mx_curr\u001b[0m\u001b[0;34m,\u001b[0m \u001b[0msimulations\u001b[0m \u001b[0;32min\u001b[0m \u001b[0mself\u001b[0m\u001b[0;34m.\u001b[0m\u001b[0mrepeat\u001b[0m\u001b[0;34m(\u001b[0m\u001b[0mself\u001b[0m\u001b[0;34m.\u001b[0m\u001b[0mget_next_x_curr\u001b[0m\u001b[0;34m(\u001b[0m\u001b[0;34m)\u001b[0m\u001b[0;34m)\u001b[0m\u001b[0;34m:\u001b[0m\u001b[0;34m\u001b[0m\u001b[0;34m\u001b[0m\u001b[0m\n\u001b[0m\u001b[1;32m    307\u001b[0m \u001b[0;34m\u001b[0m\u001b[0m\n\u001b[1;32m    308\u001b[0m                 \u001b[0mlike\u001b[0m \u001b[0;34m=\u001b[0m \u001b[0mself\u001b[0m\u001b[0;34m.\u001b[0m\u001b[0mpostprocessing\u001b[0m\u001b[0;34m(\u001b[0m\u001b[0mrep\u001b[0m\u001b[0;34m,\u001b[0m \u001b[0mx_curr\u001b[0m\u001b[0;34m,\u001b[0m \u001b[0msimulations\u001b[0m\u001b[0;34m,\u001b[0m \u001b[0mchains\u001b[0m\u001b[0;34m=\u001b[0m\u001b[0mtrial\u001b[0m\u001b[0;34m)\u001b[0m\u001b[0;34m\u001b[0m\u001b[0;34m\u001b[0m\u001b[0m\n",
      "\u001b[0;32m~/anaconda3/envs/sacsma/lib/python3.8/site-packages/spotpy/parallel/sequential.py\u001b[0m in \u001b[0;36m__call__\u001b[0;34m(self, jobs)\u001b[0m\n\u001b[1;32m     25\u001b[0m     \u001b[0;32mdef\u001b[0m \u001b[0m__call__\u001b[0m\u001b[0;34m(\u001b[0m\u001b[0mself\u001b[0m\u001b[0;34m,\u001b[0m\u001b[0mjobs\u001b[0m\u001b[0;34m)\u001b[0m\u001b[0;34m:\u001b[0m\u001b[0;34m\u001b[0m\u001b[0;34m\u001b[0m\u001b[0m\n\u001b[1;32m     26\u001b[0m         \u001b[0;32mfor\u001b[0m \u001b[0mjob\u001b[0m \u001b[0;32min\u001b[0m \u001b[0mjobs\u001b[0m\u001b[0;34m:\u001b[0m\u001b[0;34m\u001b[0m\u001b[0;34m\u001b[0m\u001b[0m\n\u001b[0;32m---> 27\u001b[0;31m             \u001b[0mdata\u001b[0m \u001b[0;34m=\u001b[0m \u001b[0mself\u001b[0m\u001b[0;34m.\u001b[0m\u001b[0mprocess\u001b[0m\u001b[0;34m(\u001b[0m\u001b[0mjob\u001b[0m\u001b[0;34m)\u001b[0m\u001b[0;34m\u001b[0m\u001b[0;34m\u001b[0m\u001b[0m\n\u001b[0m\u001b[1;32m     28\u001b[0m             \u001b[0;32myield\u001b[0m \u001b[0mdata\u001b[0m\u001b[0;34m\u001b[0m\u001b[0;34m\u001b[0m\u001b[0m\n\u001b[1;32m     29\u001b[0m \u001b[0;34m\u001b[0m\u001b[0m\n",
      "\u001b[0;32m~/anaconda3/envs/sacsma/lib/python3.8/site-packages/spotpy/algorithms/_algorithm.py\u001b[0m in \u001b[0;36msimulate\u001b[0;34m(self, id_params_tuple)\u001b[0m\n\u001b[1;32m    448\u001b[0m         \u001b[0;31m# If self.sim_timeout is not None the self.model will break after self.sim_timeout seconds otherwise is runs as\u001b[0m\u001b[0;34m\u001b[0m\u001b[0;34m\u001b[0m\u001b[0;34m\u001b[0m\u001b[0m\n\u001b[1;32m    449\u001b[0m         \u001b[0;31m# long it needs to run\u001b[0m\u001b[0;34m\u001b[0m\u001b[0;34m\u001b[0m\u001b[0;34m\u001b[0m\u001b[0m\n\u001b[0;32m--> 450\u001b[0;31m         \u001b[0msim_thread\u001b[0m\u001b[0;34m.\u001b[0m\u001b[0mjoin\u001b[0m\u001b[0;34m(\u001b[0m\u001b[0mself\u001b[0m\u001b[0;34m.\u001b[0m\u001b[0msim_timeout\u001b[0m\u001b[0;34m)\u001b[0m\u001b[0;34m\u001b[0m\u001b[0;34m\u001b[0m\u001b[0m\n\u001b[0m\u001b[1;32m    451\u001b[0m \u001b[0;34m\u001b[0m\u001b[0m\n\u001b[1;32m    452\u001b[0m         \u001b[0;31m# If no result from the thread is given, i.e. the thread was killed from the watcher the default result is\u001b[0m\u001b[0;34m\u001b[0m\u001b[0;34m\u001b[0m\u001b[0;34m\u001b[0m\u001b[0m\n",
      "\u001b[0;32m~/anaconda3/envs/sacsma/lib/python3.8/threading.py\u001b[0m in \u001b[0;36mjoin\u001b[0;34m(self, timeout)\u001b[0m\n\u001b[1;32m   1009\u001b[0m \u001b[0;34m\u001b[0m\u001b[0m\n\u001b[1;32m   1010\u001b[0m         \u001b[0;32mif\u001b[0m \u001b[0mtimeout\u001b[0m \u001b[0;32mis\u001b[0m \u001b[0;32mNone\u001b[0m\u001b[0;34m:\u001b[0m\u001b[0;34m\u001b[0m\u001b[0;34m\u001b[0m\u001b[0m\n\u001b[0;32m-> 1011\u001b[0;31m             \u001b[0mself\u001b[0m\u001b[0;34m.\u001b[0m\u001b[0m_wait_for_tstate_lock\u001b[0m\u001b[0;34m(\u001b[0m\u001b[0;34m)\u001b[0m\u001b[0;34m\u001b[0m\u001b[0;34m\u001b[0m\u001b[0m\n\u001b[0m\u001b[1;32m   1012\u001b[0m         \u001b[0;32melse\u001b[0m\u001b[0;34m:\u001b[0m\u001b[0;34m\u001b[0m\u001b[0;34m\u001b[0m\u001b[0m\n\u001b[1;32m   1013\u001b[0m             \u001b[0;31m# the behavior of a negative timeout isn't documented, but\u001b[0m\u001b[0;34m\u001b[0m\u001b[0;34m\u001b[0m\u001b[0;34m\u001b[0m\u001b[0m\n",
      "\u001b[0;32m~/anaconda3/envs/sacsma/lib/python3.8/threading.py\u001b[0m in \u001b[0;36m_wait_for_tstate_lock\u001b[0;34m(self, block, timeout)\u001b[0m\n\u001b[1;32m   1025\u001b[0m         \u001b[0;32mif\u001b[0m \u001b[0mlock\u001b[0m \u001b[0;32mis\u001b[0m \u001b[0;32mNone\u001b[0m\u001b[0;34m:\u001b[0m  \u001b[0;31m# already determined that the C code is done\u001b[0m\u001b[0;34m\u001b[0m\u001b[0;34m\u001b[0m\u001b[0m\n\u001b[1;32m   1026\u001b[0m             \u001b[0;32massert\u001b[0m \u001b[0mself\u001b[0m\u001b[0;34m.\u001b[0m\u001b[0m_is_stopped\u001b[0m\u001b[0;34m\u001b[0m\u001b[0;34m\u001b[0m\u001b[0m\n\u001b[0;32m-> 1027\u001b[0;31m         \u001b[0;32melif\u001b[0m \u001b[0mlock\u001b[0m\u001b[0;34m.\u001b[0m\u001b[0macquire\u001b[0m\u001b[0;34m(\u001b[0m\u001b[0mblock\u001b[0m\u001b[0;34m,\u001b[0m \u001b[0mtimeout\u001b[0m\u001b[0;34m)\u001b[0m\u001b[0;34m:\u001b[0m\u001b[0;34m\u001b[0m\u001b[0;34m\u001b[0m\u001b[0m\n\u001b[0m\u001b[1;32m   1028\u001b[0m             \u001b[0mlock\u001b[0m\u001b[0;34m.\u001b[0m\u001b[0mrelease\u001b[0m\u001b[0;34m(\u001b[0m\u001b[0;34m)\u001b[0m\u001b[0;34m\u001b[0m\u001b[0;34m\u001b[0m\u001b[0m\n\u001b[1;32m   1029\u001b[0m             \u001b[0mself\u001b[0m\u001b[0;34m.\u001b[0m\u001b[0m_stop\u001b[0m\u001b[0;34m(\u001b[0m\u001b[0;34m)\u001b[0m\u001b[0;34m\u001b[0m\u001b[0;34m\u001b[0m\u001b[0m\n",
      "\u001b[0;31mKeyboardInterrupt\u001b[0m: "
     ]
    }
   ],
   "source": [
    "# loop over experiments\n",
    "for f, config_file in enumerate(config_files):\n",
    "    \n",
    "    # read config file\n",
    "    with config_file.open('r') as fp:\n",
    "        yaml = YAML(typ=\"safe\")\n",
    "        yaml.allow_duplicate_keys = True\n",
    "        cfg = yaml.load(fp)  \n",
    "    \n",
    "    # extract training dates\n",
    "    with open(cfg['train_dates_file'], 'rb') as f:\n",
    "        train_dates = pkl.load(f)\n",
    "\n",
    "    # list all basins in this experiment    \n",
    "    basins = list(train_dates['start_dates'].keys())\n",
    "    assert len(basins) == 531\n",
    "\n",
    "    # loop over basins\n",
    "    for basin in basins:\n",
    "\n",
    "        # training dates for this basin\n",
    "        sd = train_dates['start_dates'][basin]\n",
    "        ed = train_dates['end_dates'][basin]\n",
    "        obj_fun_dates = pd.DataFrame(list(chain.from_iterable(pd.date_range(sdi, edi) for sdi, edi in zip(sd, ed))), columns = ('train_dates',))\n",
    "\n",
    "        # load data\n",
    "        mask_dates = obj_fun_dates['train_dates']\n",
    "        attributes = camels.load_basin_attributes(basin)\n",
    "        forcings, area = camels.load_forcings(basin)\n",
    "        observations = camels.load_usgs(basin, area)\n",
    "\n",
    "        # set up optimizer\n",
    "        optimizer = spotpy_setup(forcings=forcings,\n",
    "                                 observations=observations['QObs'],\n",
    "                                 latitude=attributes['gauge_lat'],\n",
    "                                 elevation=attributes['elev_mean'],\n",
    "                                 mask_dates=mask_dates)\n",
    "\n",
    "        # configure optimizer hyperparameters\n",
    "        sampler=spotpy.algorithms.sceua(optimizer, \n",
    "                                        dbname='SCE', \n",
    "                                        dbformat='ram',\n",
    "                                        parallel='seq',\n",
    "                                        save_sim=False)\n",
    "\n",
    "#          # configure optimizer hyperparameters\n",
    "#         sampler=spotpy.algorithms.dds(optimizer, \n",
    "#                                       dbname='DDS', \n",
    "#                                       dbformat='ram',\n",
    "#                                       parallel='seq',\n",
    "#                                       save_sim=False)\n",
    "\n",
    "        # run it\n",
    "#         sampler.sample(repetitions=int(max_model_runs), ngs=len(optimizer.optimized_parameter_names))\n",
    "        sampler.sample(repetitions=int(max_model_runs), trials=int(dds_trials))\n",
    "\n",
    "        # get best parameters\n",
    "        results = sampler.getdata()\n",
    "        best_parameters = spotpy.analyser.get_best_parameterset(results,maximize=False)\n",
    "        best_parameters_df = pd.DataFrame(best_parameters)\n",
    "        for key in best_parameters_df.keys():\n",
    "            new_key = key.split('par')[-1]\n",
    "            best_parameters_df = best_parameters_df.rename(columns={key: new_key})\n",
    "        best_parameters_series = best_parameters_df.transpose()[0]\n",
    "\n",
    "        # get simulation with best parameters\n",
    "        parm_vector = best_parameters_series.loc[optimizer.optimized_parameter_names].values\n",
    "        sim = optimizer.simulation(parm_vector)\n",
    "\n",
    "        # save output\n",
    "        outfile = out_dir / f\"{str(config_file).split('/')[-2][:-10]}_{basin}.pkl\"\n",
    "        with open(outfile, 'wb') as f:\n",
    "            pkl.dump([best_parameters_series, sim], f)\n"
   ]
  },
  {
   "cell_type": "code",
   "execution_count": null,
   "metadata": {},
   "outputs": [],
   "source": []
  }
 ],
 "metadata": {
  "kernelspec": {
   "display_name": "Python 3",
   "language": "python",
   "name": "python3"
  },
  "language_info": {
   "codemirror_mode": {
    "name": "ipython",
    "version": 3
   },
   "file_extension": ".py",
   "mimetype": "text/x-python",
   "name": "python",
   "nbconvert_exporter": "python",
   "pygments_lexer": "ipython3",
   "version": "3.8.2"
  },
  "pycharm": {
   "stem_cell": {
    "cell_type": "raw",
    "metadata": {
     "collapsed": false
    },
    "source": []
   }
  }
 },
 "nbformat": 4,
 "nbformat_minor": 1
}
