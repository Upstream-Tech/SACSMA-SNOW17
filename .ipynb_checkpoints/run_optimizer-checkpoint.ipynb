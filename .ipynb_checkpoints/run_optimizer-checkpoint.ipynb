{
 "cells": [
  {
   "cell_type": "code",
   "execution_count": 1,
   "metadata": {
    "pycharm": {
     "is_executing": false
    }
   },
   "outputs": [],
   "source": [
    "# standard imports\n",
    "from pathlib import Path\n",
    "from ruamel.yaml import YAML\n",
    "from os import path\n",
    "import pickle as pkl\n",
    "import pandas as pd\n",
    "from itertools import chain\n",
    "import numpy as np\n",
    "import spotpy"
   ]
  },
  {
   "cell_type": "code",
   "execution_count": 2,
   "metadata": {
    "pycharm": {
     "is_executing": false,
     "name": "#%%\n"
    }
   },
   "outputs": [],
   "source": [
    "# CAMELS imports\n",
    "import model.camels_utilities as camels\n",
    "from optimizer.optimizer import spotpy_setup"
   ]
  },
  {
   "cell_type": "code",
   "execution_count": 3,
   "metadata": {},
   "outputs": [
    {
     "name": "stdout",
     "output_type": "stream",
     "text": [
      "There are 192 experiments.\n"
     ]
    }
   ],
   "source": [
    "# load config files\n",
    "run_dir = Path('/home/gsnearing/projects/lstm_based_hydrology/extreme_year_runs/')\n",
    "config_files = list(run_dir.glob('**/config.yml'))\n",
    "print(f'There are {len(config_files)} experiments.')"
   ]
  },
  {
   "cell_type": "code",
   "execution_count": 4,
   "metadata": {},
   "outputs": [
    {
     "name": "stdout",
     "output_type": "stream",
     "text": [
      "There are 192 experiments.\n"
     ]
    }
   ],
   "source": [
    "# load all config files for these experiments\\n\",\n",
    "configs = []\n",
    "for f, file in enumerate(config_files):\n",
    "    with file.open('r') as fp:\n",
    "        yaml = YAML(typ=\"safe\")\n",
    "        yaml.allow_duplicate_keys = True\n",
    "        cfg = yaml.load(fp)  \n",
    "#         sim_file = Path(cfg['run_dir']) / 'test' / 'model_epoch040' / 'test_results.p'\n",
    "#         if path.isfile(sim_file):\n",
    "        configs.append(cfg)\n",
    "print(f'There are {len(configs)} experiments.') "
   ]
  },
  {
   "cell_type": "code",
   "execution_count": 6,
   "metadata": {},
   "outputs": [],
   "source": [
    "# extract training dates\n",
    "cfg = configs[0]\n",
    "with open(cfg['train_dates_file'], 'rb') as f:\n",
    "    train_dates = pkl.load(f)\n",
    "    \n",
    "basins = list(train_dates['start_dates'].keys())\n",
    "obj_fun_dates = {}\n",
    "for basin in basins:\n",
    "    sd = train_dates['start_dates'][basin]\n",
    "    ed = train_dates['end_dates'][basin]\n",
    "    obj_fun_dates[basin] = pd.DataFrame(list(chain.from_iterable(pd.date_range(sdi, edi) for sdi,edi in zip(sd, ed))), columns = ('train_dates',))\n",
    "    "
   ]
  },
  {
   "cell_type": "code",
   "execution_count": 8,
   "metadata": {
    "pycharm": {
     "is_executing": false,
     "name": "#%%\n"
    }
   },
   "outputs": [],
   "source": [
    "# Loop through basins\n",
    "basin = '01054200'\n",
    "\n",
    "# Load data\n",
    "mask_dates = obj_fun_dates[basin]['train_dates']\n",
    "attributes = camels.load_basin_attributes(basin)\n",
    "forcings, area = camels.load_forcings(basin)\n",
    "observations = camels.load_usgs(basin, area)"
   ]
  },
  {
   "cell_type": "code",
   "execution_count": 9,
   "metadata": {
    "pycharm": {
     "is_executing": false,
     "name": "#%%\n"
    }
   },
   "outputs": [],
   "source": [
    "# Set up optimizer\n",
    "optimizer = spotpy_setup(forcings=forcings,\n",
    "                         observations=observations['QObs'],\n",
    "                         latitude=attributes['gauge_lat'],\n",
    "                         elevation=attributes['elev_mean'],\n",
    "                         mask_dates=mask_dates)"
   ]
  },
  {
   "cell_type": "code",
   "execution_count": 11,
   "metadata": {},
   "outputs": [],
   "source": [
    "parameters = camels.load_sacsma_parameters(basin)\n",
    "parms = parameters\n",
    "parm_vector = parms.loc[optimizer.optimized_parameter_names].values\n",
    "sim = optimizer.simulation(parm_vector)"
   ]
  },
  {
   "cell_type": "code",
   "execution_count": null,
   "metadata": {},
   "outputs": [],
   "source": []
  },
  {
   "cell_type": "code",
   "execution_count": null,
   "metadata": {
    "pycharm": {
     "is_executing": false,
     "name": "#%%\n"
    }
   },
   "outputs": [],
   "source": [
    "# Configure optimizer hyperparameters\n",
    "sampler=spotpy.algorithms.sceua(optimizer, \n",
    "                                dbname='SCE', \n",
    "                                dbformat='ram')\n",
    "max_model_runs = 1e5\n",
    "sampler.sample(max_model_runs, ngs=20)"
   ]
  },
  {
   "cell_type": "code",
   "execution_count": null,
   "metadata": {
    "pycharm": {
     "is_executing": false,
     "name": "#%%\n"
    }
   },
   "outputs": [],
   "source": [
    "# Run optimizer\n",
    "\n",
    "results = sampler.getdata()\n",
    "\n"
   ]
  }
 ],
 "metadata": {
  "kernelspec": {
   "display_name": "Python 3",
   "language": "python",
   "name": "python3"
  },
  "language_info": {
   "codemirror_mode": {
    "name": "ipython",
    "version": 3
   },
   "file_extension": ".py",
   "mimetype": "text/x-python",
   "name": "python",
   "nbconvert_exporter": "python",
   "pygments_lexer": "ipython3",
   "version": "3.8.2"
  },
  "pycharm": {
   "stem_cell": {
    "cell_type": "raw",
    "metadata": {
     "collapsed": false
    },
    "source": []
   }
  }
 },
 "nbformat": 4,
 "nbformat_minor": 1
}
