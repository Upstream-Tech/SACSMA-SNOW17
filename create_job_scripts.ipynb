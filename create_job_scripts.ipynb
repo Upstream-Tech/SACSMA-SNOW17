{
 "cells": [
  {
   "cell_type": "code",
   "execution_count": 1,
   "metadata": {},
   "outputs": [],
   "source": [
    "from pathlib import Path\n",
    "import subprocess"
   ]
  },
  {
   "cell_type": "code",
   "execution_count": 2,
   "metadata": {},
   "outputs": [],
   "source": [
    "# directories\n",
    "forcing_types = ['nldas','daymet','maurer']\n",
    "\n",
    "config_dirs = {}\n",
    "for ftype in forcing_types:\n",
    "    config_dirs[ftype] = (Path(f'/home/gsnearing/projects/multi-inputs/multiple_forcing/configs/{ftype}'))\n",
    "\n",
    "out_dirs = {}\n",
    "for ftype in forcing_types:\n",
    "    out_dirs[ftype] = (Path(f'{ftype}_runs'))"
   ]
  },
  {
   "cell_type": "code",
   "execution_count": 3,
   "metadata": {},
   "outputs": [
    {
     "name": "stdout",
     "output_type": "stream",
     "text": [
      "There are 30 experiments.\n"
     ]
    }
   ],
   "source": [
    "# load config files\n",
    "config_files = {}\n",
    "total_configs = 0\n",
    "for ftype in forcing_types:\n",
    "    config_files[ftype] = (list(config_dirs[ftype].glob('*.yml')))\n",
    "    total_configs += len(config_files[ftype])\n",
    "print(f'There are {total_configs} experiments.')"
   ]
  },
  {
   "cell_type": "code",
   "execution_count": 4,
   "metadata": {},
   "outputs": [],
   "source": [
    "# optimizer hypers\n",
    "max_model_runs = 1e4 # 1e3 # 1e5\n",
    "dds_trials = 1\n",
    "use_cores_frac = 1\n",
    "algorithm = 'DDS'"
   ]
  },
  {
   "cell_type": "code",
   "execution_count": 5,
   "metadata": {},
   "outputs": [],
   "source": [
    "# loop over experiments\n",
    "for ftype in forcing_types:\n",
    "    for f, config_file in enumerate(config_files[ftype]):\n",
    "        \n",
    "        # read basefile\n",
    "        with open('run_job.slurm', 'r') as file:\n",
    "            filedata = file.read()\n",
    "\n",
    "        # replace experiment name\n",
    "        filedata = filedata.replace('dummy', ftype)\n",
    "\n",
    "        # replace config file\n",
    "        filedata = filedata.replace(\"${1}\", str(config_file))\n",
    "\n",
    "        # replace number of model runs\n",
    "        filedata = filedata.replace(\"${2}\", str(int(max_model_runs)))\n",
    "\n",
    "        # replace algorithm\n",
    "        filedata = filedata.replace(\"${3}\", algorithm)\n",
    "\n",
    "        # replace output directory\n",
    "        outdir = f'./results/{ftype}/'\n",
    "        filedata = filedata.replace(\"${4}\", outdir)\n",
    "\n",
    "        # write to new config file\n",
    "        conf = str(config_file).split('/')[-1].split('.')[0]\n",
    "        job_file = Path(f\"job_scripts/{ftype}_{conf}.slurm\")\n",
    "        with open(job_file, 'w') as file:\n",
    "            file.write(filedata)\n"
   ]
  },
  {
   "cell_type": "code",
   "execution_count": 6,
   "metadata": {},
   "outputs": [
    {
     "name": "stdout",
     "output_type": "stream",
     "text": [
      "There are 30 experiments.\n"
     ]
    }
   ],
   "source": [
    "# submit all these jobs\n",
    "job_files = list(Path('job_scripts').glob('**/*.slurm'))\n",
    "print(f'There are {len(job_files)} experiments.')    "
   ]
  },
  {
   "cell_type": "code",
   "execution_count": 7,
   "metadata": {},
   "outputs": [],
   "source": [
    "for file in job_files:\n",
    "    run_cmd = f\"sbatch {file}\"\n",
    "    log_file = f\"log_files/{str(file).split('/')[-1].split('.')[0]}\"\n",
    "    with open(Path(log_file), 'w') as f:\n",
    "        subprocess.Popen(run_cmd, stderr=subprocess.STDOUT, stdout=f, shell=True)"
   ]
  },
  {
   "cell_type": "code",
   "execution_count": null,
   "metadata": {},
   "outputs": [],
   "source": []
  }
 ],
 "metadata": {
  "kernelspec": {
   "display_name": "Python 3",
   "language": "python",
   "name": "python3"
  },
  "language_info": {
   "codemirror_mode": {
    "name": "ipython",
    "version": 3
   },
   "file_extension": ".py",
   "mimetype": "text/x-python",
   "name": "python",
   "nbconvert_exporter": "python",
   "pygments_lexer": "ipython3",
   "version": "3.8.2"
  }
 },
 "nbformat": 4,
 "nbformat_minor": 4
}
