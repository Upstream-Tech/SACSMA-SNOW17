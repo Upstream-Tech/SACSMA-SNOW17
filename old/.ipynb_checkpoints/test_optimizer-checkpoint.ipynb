{
 "cells": [
  {
   "cell_type": "code",
   "execution_count": 3,
   "metadata": {
    "pycharm": {
     "is_executing": false
    }
   },
   "outputs": [],
   "source": [
    "# standard imports\n",
    "import matplotlib.pyplot as plt\n",
    "import pandas as pd\n",
    "import numpy as np\n",
    "\n",
    "import spotpy"
   ]
  },
  {
   "cell_type": "code",
   "execution_count": 4,
   "metadata": {
    "pycharm": {
     "is_executing": false,
     "name": "#%%\n"
    }
   },
   "outputs": [],
   "source": [
    "# custom imports\n",
    "import model.camels_utilities as camels\n",
    "from model.sacsma_utilities import run_sacsma, rmse_obj_fun\n",
    "from optimizer.optimizer import spotpy_setup"
   ]
  },
  {
   "cell_type": "code",
   "execution_count": 5,
   "metadata": {
    "pycharm": {
     "is_executing": false,
     "name": "#%%\n"
    }
   },
   "outputs": [],
   "source": [
    "# # this command is executed twice for interactive plotting in Jupyter notebook\n",
    "# %matplotlib notebook\n",
    "# %matplotlib notebook"
   ]
  },
  {
   "cell_type": "code",
   "execution_count": 6,
   "metadata": {
    "pycharm": {
     "is_executing": false,
     "name": "#%%\n"
    }
   },
   "outputs": [],
   "source": [
    "basin = '01054200'\n",
    "\n",
    "# Load data\n",
    "parameters = camels.load_sacsma_parameters(basin)\n",
    "attributes = camels.load_basin_attributes(basin)\n",
    "forcings, area = camels.load_forcings(basin)\n",
    "observations = camels.load_usgs(basin, area)\n",
    "benchmarks = camels.load_discharge(basin)"
   ]
  },
  {
   "cell_type": "code",
   "execution_count": 7,
   "metadata": {
    "pycharm": {
     "is_executing": false,
     "name": "#%%\n"
    }
   },
   "outputs": [
    {
     "data": {
      "image/png": "[encoded data removed]",
      "text/plain": [
       "<Figure size 432x288 with 1 Axes>"
      ]
     },
     "metadata": {
      "needs_background": "light"
     },
     "output_type": "display_data"
    }
   ],
   "source": [
    "fig = plt.figure()\n",
    "plt.plot(observations.QObs.iloc[:500], label='USGS')\n",
    "plt.plot(benchmarks.OBS_RUN.iloc[:500], label='OBS_RUN')\n",
    "plt.legend()\n",
    "plt.show()"
   ]
  },
  {
   "cell_type": "code",
   "execution_count": 8,
   "metadata": {
    "pycharm": {
     "is_executing": false,
     "name": "#%%\n"
    }
   },
   "outputs": [
    {
     "data": {
      "text/html": [
       "<div>\n",
       "<style scoped>\n",
       "    .dataframe tbody tr th:only-of-type {\n",
       "        vertical-align: middle;\n",
       "    }\n",
       "\n",
       "    .dataframe tbody tr th {\n",
       "        vertical-align: top;\n",
       "    }\n",
       "\n",
       "    .dataframe thead th {\n",
       "        text-align: right;\n",
       "    }\n",
       "</style>\n",
       "<table border=\"1\" class=\"dataframe\">\n",
       "  <thead>\n",
       "    <tr style=\"text-align: right;\">\n",
       "      <th></th>\n",
       "      <th>sacsma_pet</th>\n",
       "      <th>sacsma_snow17_raim</th>\n",
       "      <th>sacsma_uh_qq</th>\n",
       "      <th>sacsma_snow17_sneqv</th>\n",
       "      <th>sacsma_snow17_snow</th>\n",
       "      <th>sacsma_snow17_snowh</th>\n",
       "      <th>sacsma_surf</th>\n",
       "      <th>sacsma_grnd</th>\n",
       "      <th>sacsma_qq</th>\n",
       "      <th>sacsma_tet</th>\n",
       "    </tr>\n",
       "    <tr>\n",
       "      <th>Date</th>\n",
       "      <th></th>\n",
       "      <th></th>\n",
       "      <th></th>\n",
       "      <th></th>\n",
       "      <th></th>\n",
       "      <th></th>\n",
       "      <th></th>\n",
       "      <th></th>\n",
       "      <th></th>\n",
       "      <th></th>\n",
       "    </tr>\n",
       "  </thead>\n",
       "  <tbody>\n",
       "    <tr>\n",
       "      <th>1980-01-01</th>\n",
       "      <td>-0.028142</td>\n",
       "      <td>0.000000</td>\n",
       "      <td>231.641983</td>\n",
       "      <td>0.000000</td>\n",
       "      <td>0.0</td>\n",
       "      <td>0.000000</td>\n",
       "      <td>212.029297</td>\n",
       "      <td>19.612690</td>\n",
       "      <td>231.641983</td>\n",
       "      <td>-0.080839</td>\n",
       "    </tr>\n",
       "    <tr>\n",
       "      <th>1980-01-02</th>\n",
       "      <td>-0.030082</td>\n",
       "      <td>0.000000</td>\n",
       "      <td>131.199997</td>\n",
       "      <td>0.000000</td>\n",
       "      <td>0.0</td>\n",
       "      <td>0.000000</td>\n",
       "      <td>112.222473</td>\n",
       "      <td>18.977518</td>\n",
       "      <td>131.199997</td>\n",
       "      <td>-0.029931</td>\n",
       "    </tr>\n",
       "    <tr>\n",
       "      <th>1980-01-03</th>\n",
       "      <td>-0.013118</td>\n",
       "      <td>0.009180</td>\n",
       "      <td>50.367165</td>\n",
       "      <td>0.000000</td>\n",
       "      <td>0.0</td>\n",
       "      <td>0.000000</td>\n",
       "      <td>32.321926</td>\n",
       "      <td>18.045237</td>\n",
       "      <td>50.367165</td>\n",
       "      <td>-0.013053</td>\n",
       "    </tr>\n",
       "    <tr>\n",
       "      <th>1980-01-04</th>\n",
       "      <td>0.003370</td>\n",
       "      <td>0.018360</td>\n",
       "      <td>26.357958</td>\n",
       "      <td>0.000000</td>\n",
       "      <td>0.0</td>\n",
       "      <td>0.000000</td>\n",
       "      <td>9.278200</td>\n",
       "      <td>17.079758</td>\n",
       "      <td>26.357958</td>\n",
       "      <td>0.003353</td>\n",
       "    </tr>\n",
       "    <tr>\n",
       "      <th>1980-01-05</th>\n",
       "      <td>0.015235</td>\n",
       "      <td>0.000000</td>\n",
       "      <td>18.775337</td>\n",
       "      <td>0.000000</td>\n",
       "      <td>0.0</td>\n",
       "      <td>0.000000</td>\n",
       "      <td>2.631555</td>\n",
       "      <td>16.143782</td>\n",
       "      <td>18.775337</td>\n",
       "      <td>0.015159</td>\n",
       "    </tr>\n",
       "    <tr>\n",
       "      <th>...</th>\n",
       "      <td>...</td>\n",
       "      <td>...</td>\n",
       "      <td>...</td>\n",
       "      <td>...</td>\n",
       "      <td>...</td>\n",
       "      <td>...</td>\n",
       "      <td>...</td>\n",
       "      <td>...</td>\n",
       "      <td>...</td>\n",
       "      <td>...</td>\n",
       "    </tr>\n",
       "    <tr>\n",
       "      <th>2014-12-27</th>\n",
       "      <td>-0.069802</td>\n",
       "      <td>0.083459</td>\n",
       "      <td>5.996112</td>\n",
       "      <td>0.015817</td>\n",
       "      <td>0.0</td>\n",
       "      <td>0.048491</td>\n",
       "      <td>3.409278</td>\n",
       "      <td>2.586834</td>\n",
       "      <td>5.996112</td>\n",
       "      <td>-0.069453</td>\n",
       "    </tr>\n",
       "    <tr>\n",
       "      <th>2014-12-28</th>\n",
       "      <td>0.020029</td>\n",
       "      <td>16.967937</td>\n",
       "      <td>7.700307</td>\n",
       "      <td>0.012859</td>\n",
       "      <td>0.0</td>\n",
       "      <td>0.036643</td>\n",
       "      <td>5.131092</td>\n",
       "      <td>2.569216</td>\n",
       "      <td>7.700307</td>\n",
       "      <td>0.019929</td>\n",
       "    </tr>\n",
       "    <tr>\n",
       "      <th>2014-12-29</th>\n",
       "      <td>-0.024321</td>\n",
       "      <td>0.815457</td>\n",
       "      <td>7.709418</td>\n",
       "      <td>0.012044</td>\n",
       "      <td>0.0</td>\n",
       "      <td>0.036131</td>\n",
       "      <td>5.092212</td>\n",
       "      <td>2.617206</td>\n",
       "      <td>7.709418</td>\n",
       "      <td>-0.024199</td>\n",
       "    </tr>\n",
       "    <tr>\n",
       "      <th>2014-12-30</th>\n",
       "      <td>-0.040526</td>\n",
       "      <td>0.078887</td>\n",
       "      <td>3.224432</td>\n",
       "      <td>0.011965</td>\n",
       "      <td>0.0</td>\n",
       "      <td>0.035681</td>\n",
       "      <td>0.660558</td>\n",
       "      <td>2.563874</td>\n",
       "      <td>3.224432</td>\n",
       "      <td>-0.040324</td>\n",
       "    </tr>\n",
       "    <tr>\n",
       "      <th>2014-12-31</th>\n",
       "      <td>0.034097</td>\n",
       "      <td>0.057500</td>\n",
       "      <td>2.602586</td>\n",
       "      <td>0.011907</td>\n",
       "      <td>0.0</td>\n",
       "      <td>0.035273</td>\n",
       "      <td>0.123925</td>\n",
       "      <td>2.478661</td>\n",
       "      <td>2.602586</td>\n",
       "      <td>0.033926</td>\n",
       "    </tr>\n",
       "  </tbody>\n",
       "</table>\n",
       "<p>12784 rows × 10 columns</p>\n",
       "</div>"
      ],
      "text/plain": [
       "            sacsma_pet  sacsma_snow17_raim  sacsma_uh_qq  sacsma_snow17_sneqv  \\\n",
       "Date                                                                            \n",
       "1980-01-01   -0.028142            0.000000    231.641983             0.000000   \n",
       "1980-01-02   -0.030082            0.000000    131.199997             0.000000   \n",
       "1980-01-03   -0.013118            0.009180     50.367165             0.000000   \n",
       "1980-01-04    0.003370            0.018360     26.357958             0.000000   \n",
       "1980-01-05    0.015235            0.000000     18.775337             0.000000   \n",
       "...                ...                 ...           ...                  ...   \n",
       "2014-12-27   -0.069802            0.083459      5.996112             0.015817   \n",
       "2014-12-28    0.020029           16.967937      7.700307             0.012859   \n",
       "2014-12-29   -0.024321            0.815457      7.709418             0.012044   \n",
       "2014-12-30   -0.040526            0.078887      3.224432             0.011965   \n",
       "2014-12-31    0.034097            0.057500      2.602586             0.011907   \n",
       "\n",
       "            sacsma_snow17_snow  sacsma_snow17_snowh  sacsma_surf  sacsma_grnd  \\\n",
       "Date                                                                            \n",
       "1980-01-01                 0.0             0.000000   212.029297    19.612690   \n",
       "1980-01-02                 0.0             0.000000   112.222473    18.977518   \n",
       "1980-01-03                 0.0             0.000000    32.321926    18.045237   \n",
       "1980-01-04                 0.0             0.000000     9.278200    17.079758   \n",
       "1980-01-05                 0.0             0.000000     2.631555    16.143782   \n",
       "...                        ...                  ...          ...          ...   \n",
       "2014-12-27                 0.0             0.048491     3.409278     2.586834   \n",
       "2014-12-28                 0.0             0.036643     5.131092     2.569216   \n",
       "2014-12-29                 0.0             0.036131     5.092212     2.617206   \n",
       "2014-12-30                 0.0             0.035681     0.660558     2.563874   \n",
       "2014-12-31                 0.0             0.035273     0.123925     2.478661   \n",
       "\n",
       "             sacsma_qq  sacsma_tet  \n",
       "Date                                \n",
       "1980-01-01  231.641983   -0.080839  \n",
       "1980-01-02  131.199997   -0.029931  \n",
       "1980-01-03   50.367165   -0.013053  \n",
       "1980-01-04   26.357958    0.003353  \n",
       "1980-01-05   18.775337    0.015159  \n",
       "...                ...         ...  \n",
       "2014-12-27    5.996112   -0.069453  \n",
       "2014-12-28    7.700307    0.019929  \n",
       "2014-12-29    7.709418   -0.024199  \n",
       "2014-12-30    3.224432   -0.040324  \n",
       "2014-12-31    2.602586    0.033926  \n",
       "\n",
       "[12784 rows x 10 columns]"
      ]
     },
     "execution_count": 8,
     "metadata": {},
     "output_type": "execute_result"
    }
   ],
   "source": [
    "sac_fluxes, sac_states = run_sacsma(forcings=forcings,\n",
    "                                    parameters=parameters,\n",
    "                                    latitude=attributes['gauge_lat'],\n",
    "                                    elevation=attributes['elev_mean'])\n",
    "\n",
    "sac_fluxes"
   ]
  },
  {
   "cell_type": "code",
   "execution_count": null,
   "metadata": {
    "pycharm": {
     "is_executing": false,
     "name": "#%%\n"
    }
   },
   "outputs": [],
   "source": [
    "# df = pd.concat((sac_fluxes, observations))\n",
    "df = sac_fluxes['sacsma_uh_qq'].to_frame()\n",
    "df = df.join(observations['QObs'])\n",
    "df = df.join(benchmarks.MOD_RUN)\n",
    "df = df.dropna(axis=0, how='any')\n",
    "rmse = np.sqrt(np.mean((df.sacsma_uh_qq - df.QObs)**2))\n",
    "rmse"
   ]
  },
  {
   "cell_type": "code",
   "execution_count": null,
   "metadata": {
    "pycharm": {
     "is_executing": false,
     "name": "#%%\n"
    }
   },
   "outputs": [],
   "source": [
    "ours_rmse = np.sqrt(np.mean((df.sacsma_uh_qq - observations['QObs'])**2))\n",
    "ncar_rmse = np.sqrt(np.mean((df.MOD_RUN - observations['QObs'])**2))\n",
    "\n",
    "print(ours_rmse, ncar_rmse)"
   ]
  },
  {
   "cell_type": "code",
   "execution_count": null,
   "metadata": {
    "pycharm": {
     "is_executing": false,
     "name": "#%%\n"
    }
   },
   "outputs": [],
   "source": [
    "fig = plt.figure()\n",
    "plt.plot(df['sacsma_uh_qq'], label='sacsma_uh_qq')\n",
    "plt.plot(df['MOD_RUN'], label='MOD_RUN')\n",
    "plt.legend()\n",
    "plt.show()"
   ]
  },
  {
   "cell_type": "code",
   "execution_count": null,
   "metadata": {
    "pycharm": {
     "is_executing": false,
     "name": "#%%\n"
    }
   },
   "outputs": [],
   "source": [
    "fig = plt.figure()\n",
    "plt.plot(df['QObs'], label='Observations')\n",
    "plt.plot(df['MOD_RUN'], label='OBS_RUN')\n",
    "plt.legend()\n",
    "plt.show()"
   ]
  },
  {
   "cell_type": "code",
   "execution_count": null,
   "metadata": {
    "pycharm": {
     "is_executing": false,
     "name": "#%%\n"
    }
   },
   "outputs": [],
   "source": [
    "rmse = rmse_obj_fun(forcings=forcings,\n",
    "                    parameters=parameters,\n",
    "                    observations=observations['QObs'],\n",
    "                    latitude=attributes['gauge_lat'],\n",
    "                    elevation=attributes['elev_mean'])\n",
    "\n",
    "rmse"
   ]
  },
  {
   "cell_type": "code",
   "execution_count": null,
   "metadata": {
    "pycharm": {
     "is_executing": false,
     "name": "#%%\n"
    }
   },
   "outputs": [],
   "source": [
    "optimizer = spotpy_setup(forcings=forcings,\n",
    "                         observations=observations['QObs'],\n",
    "                         latitude=attributes['gauge_lat'],\n",
    "                         elevation=attributes['elev_mean'],\n",
    "                         warmup=365)"
   ]
  },
  {
   "cell_type": "code",
   "execution_count": null,
   "metadata": {
    "pycharm": {
     "is_executing": false,
     "name": "#%%\n"
    }
   },
   "outputs": [],
   "source": [
    "parms = parameters\n",
    "parm_vector = parms.loc[optimizer.optimized_parameter_names].values\n",
    "sim = optimizer.simulation(parm_vector)"
   ]
  },
  {
   "cell_type": "code",
   "execution_count": null,
   "metadata": {
    "pycharm": {
     "is_executing": false,
     "name": "#%%\n"
    }
   },
   "outputs": [],
   "source": [
    "rmse = optimizer.objectivefunction(sim, optimizer.evaluation())\n",
    "rmse"
   ]
  },
  {
   "cell_type": "code",
   "execution_count": null,
   "metadata": {
    "pycharm": {
     "is_executing": false,
     "name": "#%%\n"
    }
   },
   "outputs": [],
   "source": [
    "sim_df = pd.DataFrame(sim, index=forcings.iloc[365*2:].index)\n",
    "fig = plt.figure()\n",
    "plt.plot(sac_fluxes.sacsma_uh_qq, label='sacsma_uh_qq')\n",
    "plt.plot(benchmarks.MOD_RUN, label='MOD_RUN')\n",
    "plt.plot(sim_df, label='spotpy')\n",
    "plt.legend()\n",
    "plt.show()\n"
   ]
  },
  {
   "cell_type": "code",
   "execution_count": null,
   "metadata": {
    "pycharm": {
     "is_executing": false,
     "name": "#%%\n"
    }
   },
   "outputs": [],
   "source": [
    "fig = plt.figure()\n",
    "plt.scatter(sim_df,sac_fluxes.sacsma_uh_qq, label='sacsma_uh_qq')\n",
    "# plt.plot(benchmarks.MOD_RUN, label='MOD_RUN')\n",
    "# plt.plot(sim_df, label='spotpy')\n",
    "plt.legend()\n",
    "plt.show()\n"
   ]
  },
  {
   "cell_type": "code",
   "execution_count": null,
   "metadata": {
    "pycharm": {
     "is_executing": false,
     "name": "#%%\n"
    }
   },
   "outputs": [],
   "source": [
    "sampler=spotpy.algorithms.sceua(optimizer, \n",
    "                                dbname='SCE', \n",
    "                                dbformat='csv')\n",
    "max_model_runs = 1e5\n",
    "sampler.sample(max_model_runs, ngs=20)"
   ]
  },
  {
   "cell_type": "code",
   "execution_count": null,
   "metadata": {
    "pycharm": {
     "is_executing": false,
     "name": "#%%\n"
    }
   },
   "outputs": [],
   "source": [
    "results = sampler.getdata()\n"
   ]
  },
  {
   "cell_type": "code",
   "execution_count": null,
   "metadata": {
    "pycharm": {
     "name": "#%%\n"
    }
   },
   "outputs": [],
   "source": [
    "\n"
   ]
  }
 ],
 "metadata": {
  "kernelspec": {
   "display_name": "Python 3",
   "language": "python",
   "name": "python3"
  },
  "language_info": {
   "codemirror_mode": {
    "name": "ipython",
    "version": 3
   },
   "file_extension": ".py",
   "mimetype": "text/x-python",
   "name": "python",
   "nbconvert_exporter": "python",
   "pygments_lexer": "ipython3",
   "version": "3.7.6"
  },
  "pycharm": {
   "stem_cell": {
    "cell_type": "raw",
    "metadata": {
     "collapsed": false
    },
    "source": []
   }
  }
 },
 "nbformat": 4,
 "nbformat_minor": 1
}
